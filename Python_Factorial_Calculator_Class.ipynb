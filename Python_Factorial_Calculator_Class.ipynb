{
  "cells": [
    {
      "cell_type": "markdown",
      "metadata": {
        "id": "view-in-github",
        "colab_type": "text"
      },
      "source": [
        "<a href=\"https://colab.research.google.com/github/imdkhirul/imdkhirul/blob/master/Python_Factorial_Calculator_Class.ipynb\" target=\"_parent\"><img src=\"https://colab.research.google.com/assets/colab-badge.svg\" alt=\"Open In Colab\"/></a>"
      ]
    },
    {
      "cell_type": "code",
      "source": [
        "import math # Import the math module for factorial function (optional, for comparison)\n",
        "\n",
        "def calculate_factorial_simple(n):\n",
        "    \"\"\"\n",
        "    Calculates the factorial of a non-negative integer n.\n",
        "    Returns None if n is negative, along with an error message.\n",
        "    \"\"\"\n",
        "    if n < 0:\n",
        "        print(\"Error: Factorial is not defined for negative numbers.\")\n",
        "        return None\n",
        "    elif n == 0:\n",
        "        return 1\n",
        "    else:\n",
        "        result = 1\n",
        "        for i in range(1, n + 1):\n",
        "            result *= i\n",
        "        return result\n",
        "\n",
        "# Main part of the program to get user input and display the result\n",
        "if __name__ == \"__main__\":\n",
        "    while True:\n",
        "        try:\n",
        "            user_input = int(input(\"Enter a non-negative integer to calculate its factorial: \"))\n",
        "            break\n",
        "        except ValueError:\n",
        "            print(\"Invalid input. Please enter a whole number.\")\n",
        "\n",
        "    factorial_result = calculate_factorial_simple(user_input)\n",
        "\n",
        "    if factorial_result is not None:\n",
        "        print(f\"The factorial of {user_input} is: {factorial_result}\")"
      ],
      "outputs": [
        {
          "output_type": "stream",
          "name": "stdout",
          "text": [
            "Enter a non-negative integer to calculate its factorial: 5\n",
            "The factorial of 5 is: 120\n"
          ]
        }
      ],
      "execution_count": 3,
      "metadata": {
        "colab": {
          "base_uri": "https://localhost:8080/"
        },
        "id": "IX1QLtp0Plb4",
        "outputId": "c45eeb45-257f-43f6-f2b9-b1efa91496bb"
      }
    }
  ],
  "metadata": {
    "colab": {
      "provenance": [],
      "include_colab_link": true
    },
    "kernelspec": {
      "display_name": "Python 3",
      "name": "python3"
    }
  },
  "nbformat": 4,
  "nbformat_minor": 0
}